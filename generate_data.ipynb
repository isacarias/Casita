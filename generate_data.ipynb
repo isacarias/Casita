{
 "cells": [
  {
   "cell_type": "markdown",
   "id": "0455b5fa-8d62-459c-8aa7-67beedb0a94e",
   "metadata": {},
   "source": [
    "##### TODO: CREATE UI AND THEN FIND A WAY TO PASS THE SCRIPT NEW RECIPES"
   ]
  },
  {
   "cell_type": "code",
   "execution_count": 3,
   "id": "932b3a38-567e-47f6-a544-2ea7e0a5201c",
   "metadata": {},
   "outputs": [],
   "source": [
    "import json\n",
    "import nbimporter"
   ]
  },
  {
   "cell_type": "code",
   "execution_count": 137,
   "id": "5b0049a6-725a-45e7-944f-b210eb1362b9",
   "metadata": {},
   "outputs": [],
   "source": [
    "def find_unit(ingredient_name, data):\n",
    "\n",
    "    unit_dict = {}\n",
    "\n",
    "    # Parse through data and populate unit_dict\n",
    "    for category in data.values():\n",
    "        for recipe in category.values():\n",
    "            for name, details in recipe['ingredients'].items():\n",
    "                unit_dict[name] = details['unit']\n",
    "\n",
    "    return unit_dict.get(ingredient_name, None)"
   ]
  },
  {
   "cell_type": "code",
   "execution_count": 141,
   "id": "e1e9d3ca-71bd-4f54-955c-078f36541a31",
   "metadata": {},
   "outputs": [],
   "source": [
    "def add_recipe(category, recipe_name, ingredients_list, servings):\n",
    "    \n",
    "    json_file = 'recipes.txt'\n",
    "    \n",
    "    # Load existing data from JSON\n",
    "    with open(json_file, 'r') as file:\n",
    "        data = json.load(file)\n",
    "\n",
    "    # Convert ingredients list to dictionary format and check units\n",
    "    ingredients = {}\n",
    "    for item in ingredients_list:\n",
    "        ingredient_name, qty, unit = item\n",
    "        existing_unit = find_unit(ingredient_name, data)\n",
    "\n",
    "        if existing_unit and existing_unit != unit:\n",
    "            raise ValueError(f\"Unit mismatch for {ingredient_name}: Existing unit is '{existing_unit}', but provided unit is '{unit}'.\")\n",
    "        ingredients[ingredient_name] = {\"qty\": qty, \"unit\": unit}\n",
    "\n",
    "    # Create new recipe structure\n",
    "    new_recipe = {recipe_name: {\"ingredients\": ingredients, \"servings\": servings}}\n",
    "\n",
    "    # Check if the category exists, add recipe to category\n",
    "    if category in data:\n",
    "        data[category].update(new_recipe)\n",
    "    else:\n",
    "        # Create new category if it doesn't exist\n",
    "        data[category] = new_recipe\n",
    "\n",
    "    # Save updated data back to JSON\n",
    "    with open(json_file, 'w') as file:\n",
    "        json.dump(data, file, indent=4)\n",
    "        \n",
    "    print(f\"Recipe '{recipe_name}' has been added.\")"
   ]
  },
  {
   "cell_type": "code",
   "execution_count": 144,
   "id": "040ad921-948e-4fb5-99aa-e5530cd9be2a",
   "metadata": {},
   "outputs": [],
   "source": [
    "def remove_recipe(recipe_name):\n",
    "    \n",
    "    json_file = 'recipes.txt'\n",
    "    \n",
    "    # Load existing data from JSON\n",
    "    with open(json_file, 'r') as file:\n",
    "        data = json.load(file)\n",
    "\n",
    "    # Iterate through categories to find and remove the recipe\n",
    "    recipe_found = False\n",
    "    for category in data:\n",
    "        if recipe_name in data[category]:\n",
    "            del data[category][recipe_name]\n",
    "            recipe_found = True\n",
    "            break\n",
    "\n",
    "    # Check if the recipe was found and removed\n",
    "    if not recipe_found:\n",
    "        print(f\"Recipe '{recipe_name}' not found.\")\n",
    "        return\n",
    "\n",
    "    # Save updated data back to JSON\n",
    "    with open(json_file, 'w') as file:\n",
    "        json.dump(data, file, indent=4)\n",
    "    print(f\"Recipe '{recipe_name}' has been removed.\")"
   ]
  },
  {
   "cell_type": "code",
   "execution_count": 145,
   "id": "5054af69-8165-47e1-a18a-71dc33a9e4d4",
   "metadata": {},
   "outputs": [
    {
     "name": "stdout",
     "output_type": "stream",
     "text": [
      "Recipe 'TEST Recipe' has been removed.\n"
     ]
    }
   ],
   "source": [
    "# Example usage\n",
    "remove_recipe(\"TEST Recipe\")"
   ]
  },
  {
   "cell_type": "code",
   "execution_count": null,
   "id": "329c95ba-cd01-4fb1-b343-5016d090a86c",
   "metadata": {},
   "outputs": [],
   "source": []
  }
 ],
 "metadata": {
  "kernelspec": {
   "display_name": "Python 3 (ipykernel)",
   "language": "python",
   "name": "python3"
  },
  "language_info": {
   "codemirror_mode": {
    "name": "ipython",
    "version": 3
   },
   "file_extension": ".py",
   "mimetype": "text/x-python",
   "name": "python",
   "nbconvert_exporter": "python",
   "pygments_lexer": "ipython3",
   "version": "3.10.9"
  }
 },
 "nbformat": 4,
 "nbformat_minor": 5
}
