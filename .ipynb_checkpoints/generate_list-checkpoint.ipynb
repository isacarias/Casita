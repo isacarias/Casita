{
 "cells": [
  {
   "cell_type": "code",
   "execution_count": 12,
   "id": "7114dcaa-24ea-48c5-8d10-83af9f3d2bbd",
   "metadata": {},
   "outputs": [],
   "source": [
    "import pandas as pd\n",
    "import json\n",
    "import pickle\n",
    "import nbimporter"
   ]
  },
  {
   "cell_type": "code",
   "execution_count": 13,
   "id": "a94036b6-13c3-4615-b1bf-2e4f0e3bc00b",
   "metadata": {},
   "outputs": [],
   "source": [
    "from recipe_class import Recipe\n",
    "from generate_menu import generate_weekly_menu"
   ]
  },
  {
   "cell_type": "code",
   "execution_count": 14,
   "id": "e0ed7c94-98d9-4390-bd02-a8ff9dfc3a92",
   "metadata": {},
   "outputs": [],
   "source": [
    "def create_ingredient_list():\n",
    "    \n",
    "    ingredients_list = {}\n",
    "    recipe_servings_count = {}\n",
    "    \n",
    "    weekly_menu = generate_weekly_menu()\n",
    "\n",
    "    # Iterate through each day and meal in the weekly menu\n",
    "    for day in weekly_menu.columns:\n",
    "        for meal_type in weekly_menu.index:\n",
    "            recipe_obj = weekly_menu.at[meal_type, day]\n",
    "\n",
    "            # Check if the recipe has servings left from a previous day\n",
    "            if recipe_servings_count.get(recipe_obj.name, 0) > 0:\n",
    "                \n",
    "                # Decrease the count of remaining servings and continue to next recipe\n",
    "                recipe_servings_count[recipe_obj.name] -= 1\n",
    "                continue\n",
    "\n",
    "            # Iterate over the ingredients of the recipe and aggregate their quantities\n",
    "            for ingredient, details in recipe_obj.ingredients.items():\n",
    "                qty, unit = details['qty'], details['unit']\n",
    "                if ingredient in ingredients_list:\n",
    "                    ingredients_list[ingredient]['qty'] += qty\n",
    "                else:\n",
    "                    ingredients_list[ingredient] = {'qty': qty, 'unit': unit}\n",
    "\n",
    "            # Set the number of servings for this recipe (minus the current one)\n",
    "            recipe_servings_count[recipe_obj.name] = recipe_obj.servings - 1\n",
    "            \n",
    "    # Create ingredients DF\n",
    "    ingredients_df = pd.DataFrame.from_dict(ingredients_list, orient='index')\n",
    "    ingredients_df = ingredients_df.reset_index()\n",
    "    ingredients_df.rename(columns={'index': 'ingredients'}, inplace=True)\n",
    "\n",
    "    return ingredients_df, weekly_menu"
   ]
  },
  {
   "cell_type": "code",
   "execution_count": null,
   "id": "a41c0b42-7ee6-43be-93a1-aeb4a818d539",
   "metadata": {},
   "outputs": [],
   "source": []
  }
 ],
 "metadata": {
  "kernelspec": {
   "display_name": "Python 3 (ipykernel)",
   "language": "python",
   "name": "python3"
  },
  "language_info": {
   "codemirror_mode": {
    "name": "ipython",
    "version": 3
   },
   "file_extension": ".py",
   "mimetype": "text/x-python",
   "name": "python",
   "nbconvert_exporter": "python",
   "pygments_lexer": "ipython3",
   "version": "3.10.9"
  }
 },
 "nbformat": 4,
 "nbformat_minor": 5
}
