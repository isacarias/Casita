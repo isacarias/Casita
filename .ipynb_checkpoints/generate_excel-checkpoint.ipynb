{
 "cells": [
  {
   "cell_type": "code",
   "execution_count": 7,
   "id": "10c93b85-882e-4aa7-a816-afd8581d7341",
   "metadata": {},
   "outputs": [],
   "source": [
    "import pandas as pd\n",
    "import nbimporter\n",
    "import json"
   ]
  },
  {
   "cell_type": "code",
   "execution_count": 9,
   "id": "9030c2ff-b77d-491e-b308-ab6a5b66bd57",
   "metadata": {},
   "outputs": [],
   "source": [
    "def export_to_excel(ingredients_df, menu_df,filename='menu_and_ingredients.xlsx'):\n",
    "\n",
    "    with pd.ExcelWriter(filename, engine='openpyxl') as writer:\n",
    "        menu_df.to_excel(writer, sheet_name='Menu', index=False)\n",
    "        ingredients_df.to_excel(writer, sheet_name='Ingredients List', index=False)\n",
    "\n",
    "    print(f\"Data saved to {filename}\")"
   ]
  },
  {
   "cell_type": "code",
   "execution_count": null,
   "id": "d6fc6fef-08c0-41e4-b1dd-26ed18e68c10",
   "metadata": {},
   "outputs": [],
   "source": []
  }
 ],
 "metadata": {
  "kernelspec": {
   "display_name": "Python 3 (ipykernel)",
   "language": "python",
   "name": "python3"
  },
  "language_info": {
   "codemirror_mode": {
    "name": "ipython",
    "version": 3
   },
   "file_extension": ".py",
   "mimetype": "text/x-python",
   "name": "python",
   "nbconvert_exporter": "python",
   "pygments_lexer": "ipython3",
   "version": "3.10.9"
  }
 },
 "nbformat": 4,
 "nbformat_minor": 5
}
