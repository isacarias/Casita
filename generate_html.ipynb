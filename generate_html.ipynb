{
 "cells": [
  {
   "cell_type": "code",
   "execution_count": 17,
   "id": "3fd1b60f-c788-45a9-b3a1-ccabf50577ac",
   "metadata": {},
   "outputs": [],
   "source": [
    "import subprocess\n",
    "import nbimporter"
   ]
  },
  {
   "cell_type": "code",
   "execution_count": 22,
   "id": "443f939e-4fdf-4676-a417-79694c2bd3e0",
   "metadata": {},
   "outputs": [],
   "source": [
    "def export_to_html(notebook_path, output_html_path=None):\n",
    "\n",
    "    if output_html_path is None:\n",
    "        output_html_path = notebook_path.replace('.ipynb', '.html')\n",
    "\n",
    "    try:\n",
    "        subprocess.run(['jupyter', 'nbconvert', '--to', 'html', notebook_path, '--output', output_html_path], check=True)\n",
    "        print(f\"Notebook {notebook_path} has been converted to {output_html_path}\")\n",
    "    except subprocess.CalledProcessError as e:\n",
    "        print(f\"An error occurred while converting the notebook: {e}\")\n"
   ]
  },
  {
   "cell_type": "code",
   "execution_count": null,
   "id": "683d87c7-e056-4c51-b5d3-682f8e137a43",
   "metadata": {},
   "outputs": [],
   "source": []
  }
 ],
 "metadata": {
  "kernelspec": {
   "display_name": "Python 3 (ipykernel)",
   "language": "python",
   "name": "python3"
  },
  "language_info": {
   "codemirror_mode": {
    "name": "ipython",
    "version": 3
   },
   "file_extension": ".py",
   "mimetype": "text/x-python",
   "name": "python",
   "nbconvert_exporter": "python",
   "pygments_lexer": "ipython3",
   "version": "3.10.9"
  }
 },
 "nbformat": 4,
 "nbformat_minor": 5
}
