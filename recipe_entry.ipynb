{
 "cells": [
  {
   "cell_type": "markdown",
   "id": "cbe6cf0c-6122-48f7-a0f1-685283a6eecb",
   "metadata": {},
   "source": [
    "# Recipe entry pipeline :)"
   ]
  },
  {
   "cell_type": "markdown",
   "id": "1f564aa4-d96c-4056-a0c9-49c825a93ab5",
   "metadata": {},
   "source": [
    "Remember that in order for the quantities to be calculated correctly in the ingredients list, the units of all the ingredients stored in recipes.txt must match\n",
    "\n",
    "eg. chicken breast is quantified in grams so all chicken breast entries must be quantified in grams"
   ]
  },
  {
   "cell_type": "markdown",
   "id": "35f13ead-7ff4-40a2-941d-14e4a1369c25",
   "metadata": {},
   "source": [
    "##### TODO: CREATE UI AND THEN FIND A WAY TO PASS THE SCRIPT NEW RECIPES"
   ]
  },
  {
   "cell_type": "markdown",
   "id": "0213d00d-4841-44a5-8715-147c819bf8eb",
   "metadata": {},
   "source": [
    "---"
   ]
  },
  {
   "cell_type": "code",
   "execution_count": 1,
   "id": "5ee6e848-0f0f-4941-bf33-8a3d3f8d684a",
   "metadata": {},
   "outputs": [],
   "source": [
    "import nbimporter\n",
    "\n",
    "from generate_data import add_recipe, remove_recipe"
   ]
  },
  {
   "cell_type": "markdown",
   "id": "ddf9fbc4-ee9a-4f61-b173-098397383f5b",
   "metadata": {},
   "source": [
    "### Add Recipe here!"
   ]
  },
  {
   "cell_type": "markdown",
   "id": "10df31ce-cb97-4989-ba81-49f12ffd5166",
   "metadata": {},
   "source": [
    "#### this is the function we use to add recipes to the DB\n",
    "\n",
    "`add_recipe(category, recipe_name, ingredients_list, servings)`"
   ]
  },
  {
   "cell_type": "markdown",
   "id": "f8b0c039-d6b8-49bd-8c7a-952a3aad05f2",
   "metadata": {},
   "source": [
    "The `add_recipe` function adds a new recipe to an existing collection in 'recipes.txt'. It checks for unit consistency in ingredients and updates the recipe file with the new recipe details if everything is consistent. If you get an error, it likely because the unit you passed as an argument is not consistent with what is already in the DB.\n",
    "\n",
    "Remember that in order for the quantities to be calculated correctly in the ingredients list, the units of all the ingredients stored in recipes.txt must match\n",
    "\n",
    "eg. chicken breast is quantified in grams so all chicken breast entries must be quantified in grams"
   ]
  },
  {
   "cell_type": "markdown",
   "id": "40004e64-72f5-4a79-a5e1-8bc9bd1d55c2",
   "metadata": {},
   "source": [
    "**category:** \n",
    "The type of meal. The existing categories are: \"Breakfast\", \"Lunch\", \"Dinner\", or \"Snack\". You choose the category to which your new recipe will belong.\n",
    "\n",
    "**recipe_name:** \n",
    "The name of your recipe.\n",
    "\n",
    "**ingredients_list:** \n",
    "A list of ingredients with their quantities and units, formatted as: \n",
    "\n",
    "`[(ingredient, quantity, unit), ...]` \n",
    "\n",
    "For example, `[(\"flour\", 200, \"grams\"), (\"eggs\", 3, \"units\")]`\n",
    "\n",
    "**servings:** \n",
    "For this specific casita (we count by two's) so if the serving is 3 that means it can feed 2 people for 3 meals (i.e. 3 servings == 6 servings for 1 person)."
   ]
  },
  {
   "cell_type": "code",
   "execution_count": 2,
   "id": "88845bfa-d80b-47a5-aaab-058c9da0b62d",
   "metadata": {},
   "outputs": [
    {
     "name": "stdout",
     "output_type": "stream",
     "text": [
      "Recipe 'TEST' has been added.\n"
     ]
    }
   ],
   "source": [
    "# Example usage\n",
    "\n",
    "new_ingredients = [\n",
    "    (\"flour\", 200, \"grams\"),\n",
    "    (\"water\", 100, \"ml\")\n",
    "]\n",
    "\n",
    "add_recipe(\"Dinner\", \"TEST\", new_ingredients, 2)"
   ]
  },
  {
   "cell_type": "code",
   "execution_count": 3,
   "id": "f1a41e18-ab08-4153-8a3f-f84870095b4e",
   "metadata": {},
   "outputs": [],
   "source": [
    "# write your code here"
   ]
  },
  {
   "cell_type": "markdown",
   "id": "48f4cf96-6a98-4252-ba75-ce9112964ec2",
   "metadata": {},
   "source": [
    "---"
   ]
  },
  {
   "cell_type": "markdown",
   "id": "4b10e1cc-96db-4564-900d-8fdb8db03ad8",
   "metadata": {},
   "source": [
    "### Remove Recipe here!"
   ]
  },
  {
   "cell_type": "markdown",
   "id": "db074ba9-8e57-4037-8bc3-94804e529cf4",
   "metadata": {},
   "source": [
    "#### this is the function we use to remove recipes from the DB\n",
    "\n",
    "`remove_recipe(recipe_name)`"
   ]
  },
  {
   "cell_type": "markdown",
   "id": "945f166f-4082-4f45-a735-27486b11af5a",
   "metadata": {},
   "source": [
    "If you want to remove a recipe from the DB just pass the recipe_name as argument in the function signature!"
   ]
  },
  {
   "cell_type": "code",
   "execution_count": 4,
   "id": "e424606e-6224-4d50-801f-966935642e27",
   "metadata": {},
   "outputs": [
    {
     "name": "stdout",
     "output_type": "stream",
     "text": [
      "Recipe 'TEST' has been removed.\n"
     ]
    }
   ],
   "source": [
    "# Example usage\n",
    "remove_recipe(\"TEST\")"
   ]
  },
  {
   "cell_type": "code",
   "execution_count": 5,
   "id": "9cfebf1a-9471-4cd9-8378-0070db582873",
   "metadata": {},
   "outputs": [],
   "source": [
    "# write your code here"
   ]
  },
  {
   "cell_type": "code",
   "execution_count": null,
   "id": "1affe63e-cf20-408e-b33f-22175ea31871",
   "metadata": {},
   "outputs": [],
   "source": []
  }
 ],
 "metadata": {
  "kernelspec": {
   "display_name": "Python 3 (ipykernel)",
   "language": "python",
   "name": "python3"
  },
  "language_info": {
   "codemirror_mode": {
    "name": "ipython",
    "version": 3
   },
   "file_extension": ".py",
   "mimetype": "text/x-python",
   "name": "python",
   "nbconvert_exporter": "python",
   "pygments_lexer": "ipython3",
   "version": "3.10.9"
  }
 },
 "nbformat": 4,
 "nbformat_minor": 5
}
